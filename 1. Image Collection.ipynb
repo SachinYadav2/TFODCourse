{
 "cells": [
  {
   "cell_type": "markdown",
   "metadata": {},
   "source": [
    "# 1. Import Dependencies"
   ]
  },
  {
   "cell_type": "code",
   "execution_count": 1,
   "metadata": {},
   "outputs": [
    {
     "name": "stdout",
     "output_type": "stream",
     "text": [
      "Requirement already satisfied: opencv-python in e:\\youtube\\tensorflow object detection\\tfodcourse\\tfod\\lib\\site-packages (4.5.4.58)\n",
      "Requirement already satisfied: numpy>=1.17.3 in e:\\youtube\\tensorflow object detection\\tfodcourse\\tfod\\lib\\site-packages (from opencv-python) (1.21.4)\n"
     ]
    }
   ],
   "source": [
    "!pip install opencv-python\n"
   ]
  },
  {
   "cell_type": "code",
   "execution_count": 4,
   "metadata": {},
   "outputs": [],
   "source": [
    "# Import opencv\n",
    "import cv2 \n",
    "\n",
    "# Import uuid\n",
    "import uuid\n",
    "\n",
    "# Import Operating System\n",
    "import os\n",
    "\n",
    "# Import time\n",
    "import time"
   ]
  },
  {
   "cell_type": "markdown",
   "metadata": {},
   "source": [
    "# 2. Define Images to Collect"
   ]
  },
  {
   "cell_type": "code",
   "execution_count": 5,
   "metadata": {},
   "outputs": [],
   "source": [
    "labels = ['thumbsup', 'thumbsdown', 'thankyou', 'livelong']\n",
    "number_imgs = 5"
   ]
  },
  {
   "cell_type": "markdown",
   "metadata": {},
   "source": [
    "# 3. Setup Folders "
   ]
  },
  {
   "cell_type": "code",
   "execution_count": 6,
   "metadata": {},
   "outputs": [],
   "source": [
    "IMAGES_PATH = os.path.join('Tensorflow', 'workspace', 'images', 'collectedimages')"
   ]
  },
  {
   "cell_type": "code",
   "execution_count": 7,
   "metadata": {},
   "outputs": [
    {
     "name": "stdout",
     "output_type": "stream",
     "text": [
      "Tensorflow\\workspace\\images\\collectedimages\n"
     ]
    }
   ],
   "source": [
    "print(IMAGES_PATH)"
   ]
  },
  {
   "cell_type": "code",
   "execution_count": 9,
   "metadata": {},
   "outputs": [],
   "source": [
    "if not os.path.exists(IMAGES_PATH):\n",
    "    if os.name == 'posix':           \n",
    "        !mkdir -p {IMAGES_PATH}\n",
    "    if os.name == 'nt':\n",
    "         !mkdir {IMAGES_PATH}\n",
    "for label in labels:\n",
    "    path = os.path.join(IMAGES_PATH, label)\n",
    "    if not os.path.exists(path):\n",
    "        !mkdir {path}"
   ]
  },
  {
   "cell_type": "markdown",
   "metadata": {},
   "source": [
    "# 4. Capture Images"
   ]
  },
  {
   "cell_type": "code",
   "execution_count": 8,
   "metadata": {},
   "outputs": [
    {
     "name": "stdout",
     "output_type": "stream",
     "text": [
      "Collecting images for thumbsup\n",
      "Collecting image 0\n",
      "Collecting image 1\n",
      "Collecting image 2\n",
      "Collecting image 3\n",
      "Collecting image 4\n",
      "Collecting images for thumbsdown\n",
      "Collecting image 0\n",
      "Collecting image 1\n",
      "Collecting image 2\n",
      "Collecting image 3\n",
      "Collecting image 4\n",
      "Collecting images for thankyou\n",
      "Collecting image 0\n",
      "Collecting image 1\n",
      "Collecting image 2\n",
      "Collecting image 3\n",
      "Collecting image 4\n",
      "Collecting images for livelong\n",
      "Collecting image 0\n",
      "Collecting image 1\n",
      "Collecting image 2\n",
      "Collecting image 3\n",
      "Collecting image 4\n"
     ]
    }
   ],
   "source": [
    "for label in labels:\n",
    "    cap = cv2.VideoCapture(0)                          # this is webcame capture your image                         \n",
    "    print('Collecting images for {}'.format(label))\n",
    "    time.sleep(5)\n",
    "    for imgnum in range(number_imgs):\n",
    "        print('Collecting image {}'.format(imgnum))\n",
    "        ret, frame = cap.read()\n",
    "        imgname = os.path.join(IMAGES_PATH,label,label+'.'+'{}.jpg'.format(str(uuid.uuid1())))\n",
    "        cv2.imwrite(imgname, frame)\n",
    "        cv2.imshow('frame', frame)\n",
    "        time.sleep(2)\n",
    "\n",
    "        if cv2.waitKey(1) & 0xFF == ord('q'):\n",
    "            break\n",
    "cap.release()\n",
    "cv2.destroyAllWindows()"
   ]
  },
  {
   "cell_type": "markdown",
   "metadata": {},
   "source": [
    "# 5. Image Labelling"
   ]
  },
  {
   "cell_type": "code",
   "execution_count": 1,
   "metadata": {},
   "outputs": [
    {
     "name": "stdout",
     "output_type": "stream",
     "text": [
      "Requirement already satisfied: pyqt5 in e:\\youtube\\tensorflow object detection\\tfodcourse\\tfod\\lib\\site-packages (5.15.6)\n",
      "Requirement already satisfied: lxml in e:\\youtube\\tensorflow object detection\\tfodcourse\\tfod\\lib\\site-packages (4.6.4)\n",
      "Requirement already satisfied: PyQt5-Qt5>=5.15.2 in e:\\youtube\\tensorflow object detection\\tfodcourse\\tfod\\lib\\site-packages (from pyqt5) (5.15.2)\n",
      "Requirement already satisfied: PyQt5-sip<13,>=12.8 in e:\\youtube\\tensorflow object detection\\tfodcourse\\tfod\\lib\\site-packages (from pyqt5) (12.9.0)\n"
     ]
    }
   ],
   "source": [
    "!pip install --upgrade pyqt5 lxml"
   ]
  },
  {
   "cell_type": "code",
   "execution_count": 2,
   "metadata": {},
   "outputs": [
    {
     "name": "stdout",
     "output_type": "stream",
     "text": [
      "Package           Version\n",
      "----------------- --------\n",
      "backcall          0.2.0\n",
      "colorama          0.4.4\n",
      "debugpy           1.5.1\n",
      "decorator         5.1.0\n",
      "entrypoints       0.3\n",
      "ipykernel         6.5.0\n",
      "ipython           7.29.0\n",
      "jedi              0.18.0\n",
      "jupyter-client    7.0.6\n",
      "jupyter-core      4.9.1\n",
      "lxml              4.6.4\n",
      "matplotlib-inline 0.1.3\n",
      "nest-asyncio      1.5.1\n",
      "numpy             1.21.4\n",
      "opencv-python     4.5.4.58\n",
      "parso             0.8.2\n",
      "pickleshare       0.7.5\n",
      "pip               21.3.1\n",
      "prompt-toolkit    3.0.22\n",
      "Pygments          2.10.0\n",
      "PyQt5             5.15.6\n",
      "PyQt5-Qt5         5.15.2\n",
      "PyQt5-sip         12.9.0\n",
      "python-dateutil   2.8.2\n",
      "pywin32           302\n",
      "pyzmq             22.3.0\n",
      "setuptools        47.1.0\n",
      "six               1.16.0\n",
      "tornado           6.1\n",
      "traitlets         5.1.1\n",
      "wcwidth           0.2.5\n"
     ]
    }
   ],
   "source": [
    "!pip list"
   ]
  },
  {
   "cell_type": "code",
   "execution_count": 10,
   "metadata": {},
   "outputs": [],
   "source": [
    "LABELIMG_PATH = os.path.join('Tensorflow', 'labelimg')"
   ]
  },
  {
   "cell_type": "code",
   "execution_count": 11,
   "metadata": {},
   "outputs": [],
   "source": [
    "if not os.path.exists(LABELIMG_PATH):\n",
    "    !mkdir {LABELIMG_PATH}\n",
    "    !git clone https://github.com/tzutalin/labelImg {LABELIMG_PATH}"
   ]
  },
  {
   "cell_type": "code",
   "execution_count": 12,
   "metadata": {},
   "outputs": [],
   "source": [
    "if os.name == 'posix':\n",
    "    !cd {LABELIMG_PATH} && make qt5py3\n",
    "    \n",
    "#     !make qt5py3 \n",
    "if os.name =='nt':\n",
    "    !cd {LABELIMG_PATH} && pyrcc5 -o libs/resources.py resources.qrc"
   ]
  },
  {
   "cell_type": "code",
   "execution_count": 13,
   "metadata": {},
   "outputs": [
    {
     "name": "stdout",
     "output_type": "stream",
     "text": [
      "Image:E:\\YouTube\\Tensorflow Object Detection\\TFODCourse\\Tensorflow\\workspace\\images\\collectedimages\\livelong\\livelong.9e9a555d-4846-11ec-a53d-d4c9ef658fb2.jpg -> Annotation:E:/YouTube/Tensorflow Object Detection/TFODCourse/Tensorflow/workspace/images/collectedimages/livelong/livelong.9e9a555d-4846-11ec-a53d-d4c9ef658fb2.xml\n",
      "Cancel creation.\n",
      "Image:E:\\YouTube\\Tensorflow Object Detection\\TFODCourse\\Tensorflow\\workspace\\images\\collectedimages\\livelong\\livelong.9fd7313a-4846-11ec-812a-d4c9ef658fb2.jpg -> Annotation:E:/YouTube/Tensorflow Object Detection/TFODCourse/Tensorflow/workspace/images/collectedimages/livelong/livelong.9fd7313a-4846-11ec-812a-d4c9ef658fb2.xml\n",
      "Image:E:\\YouTube\\Tensorflow Object Detection\\TFODCourse\\Tensorflow\\workspace\\images\\collectedimages\\livelong\\livelong.a10e0d8a-4846-11ec-9d97-d4c9ef658fb2.jpg -> Annotation:E:/YouTube/Tensorflow Object Detection/TFODCourse/Tensorflow/workspace/images/collectedimages/livelong/livelong.a10e0d8a-4846-11ec-9d97-d4c9ef658fb2.xml\n",
      "Cancel creation.\n",
      "Image:E:\\YouTube\\Tensorflow Object Detection\\TFODCourse\\Tensorflow\\workspace\\images\\collectedimages\\livelong\\livelong.a37fc135-4846-11ec-9a37-d4c9ef658fb2.jpg -> Annotation:E:/YouTube/Tensorflow Object Detection/TFODCourse/Tensorflow/workspace/images/collectedimages/livelong/livelong.a37fc135-4846-11ec-9a37-d4c9ef658fb2.xml\n",
      "Image:E:\\YouTube\\Tensorflow Object Detection\\TFODCourse\\Tensorflow\\workspace\\images\\collectedimages\\livelong\\livelong.a246678c-4846-11ec-b1ee-d4c9ef658fb2.jpg -> Annotation:E:/YouTube/Tensorflow Object Detection/TFODCourse/Tensorflow/workspace/images/collectedimages/livelong/livelong.a246678c-4846-11ec-b1ee-d4c9ef658fb2.xml\n",
      "Image:E:\\YouTube\\Tensorflow Object Detection\\TFODCourse\\Tensorflow\\workspace\\images\\collectedimages\\thankyou\\thankyou.9a03775a-4846-11ec-bcff-d4c9ef658fb2.jpg -> Annotation:E:/YouTube/Tensorflow Object Detection/TFODCourse/Tensorflow/workspace/images/collectedimages/thankyou/thankyou.9a03775a-4846-11ec-bcff-d4c9ef658fb2.xml\n",
      "Image:E:\\YouTube\\Tensorflow Object Detection\\TFODCourse\\Tensorflow\\workspace\\images\\collectedimages\\thankyou\\thankyou.98cb23ef-4846-11ec-8c17-d4c9ef658fb2.jpg -> Annotation:E:/YouTube/Tensorflow Object Detection/TFODCourse/Tensorflow/workspace/images/collectedimages/thankyou/thankyou.98cb23ef-4846-11ec-8c17-d4c9ef658fb2.xml\n",
      "Image:E:\\YouTube\\Tensorflow Object Detection\\TFODCourse\\Tensorflow\\workspace\\images\\collectedimages\\thankyou\\thankyou.965b216d-4846-11ec-af27-d4c9ef658fb2.jpg -> Annotation:E:/YouTube/Tensorflow Object Detection/TFODCourse/Tensorflow/workspace/images/collectedimages/thankyou/thankyou.965b216d-4846-11ec-af27-d4c9ef658fb2.xml\n",
      "Image:E:\\YouTube\\Tensorflow Object Detection\\TFODCourse\\Tensorflow\\workspace\\images\\collectedimages\\thankyou\\thankyou.9519cc1c-4846-11ec-9062-d4c9ef658fb2.jpg -> Annotation:E:/YouTube/Tensorflow Object Detection/TFODCourse/Tensorflow/workspace/images/collectedimages/thankyou/thankyou.9519cc1c-4846-11ec-9062-d4c9ef658fb2.xml\n",
      "Image:E:\\YouTube\\Tensorflow Object Detection\\TFODCourse\\Tensorflow\\workspace\\images\\collectedimages\\thankyou\\thankyou.97913c79-4846-11ec-83c6-d4c9ef658fb2.jpg -> Annotation:E:/YouTube/Tensorflow Object Detection/TFODCourse/Tensorflow/workspace/images/collectedimages/thankyou/thankyou.97913c79-4846-11ec-83c6-d4c9ef658fb2.xml\n",
      "Image:E:\\YouTube\\Tensorflow Object Detection\\TFODCourse\\Tensorflow\\workspace\\images\\collectedimages\\thumbsdown\\thumbsdown.8b8fa65a-4846-11ec-8310-d4c9ef658fb2.jpg -> Annotation:E:/YouTube/Tensorflow Object Detection/TFODCourse/Tensorflow/workspace/images/collectedimages/thumbsdown/thumbsdown.8b8fa65a-4846-11ec-8310-d4c9ef658fb2.xml\n",
      "Image:E:\\YouTube\\Tensorflow Object Detection\\TFODCourse\\Tensorflow\\workspace\\images\\collectedimages\\thumbsdown\\thumbsdown.8ccfb886-4846-11ec-ac75-d4c9ef658fb2.jpg -> Annotation:E:/YouTube/Tensorflow Object Detection/TFODCourse/Tensorflow/workspace/images/collectedimages/thumbsdown/thumbsdown.8ccfb886-4846-11ec-ac75-d4c9ef658fb2.xml\n",
      "Image:E:\\YouTube\\Tensorflow Object Detection\\TFODCourse\\Tensorflow\\workspace\\images\\collectedimages\\thumbsdown\\thumbsdown.8e06a291-4846-11ec-80c1-d4c9ef658fb2.jpg -> Annotation:E:/YouTube/Tensorflow Object Detection/TFODCourse/Tensorflow/workspace/images/collectedimages/thumbsdown/thumbsdown.8e06a291-4846-11ec-80c1-d4c9ef658fb2.xml\n",
      "Image:E:\\YouTube\\Tensorflow Object Detection\\TFODCourse\\Tensorflow\\workspace\\images\\collectedimages\\thumbsdown\\thumbsdown.8f409d99-4846-11ec-9b7a-d4c9ef658fb2.jpg -> Annotation:E:/YouTube/Tensorflow Object Detection/TFODCourse/Tensorflow/workspace/images/collectedimages/thumbsdown/thumbsdown.8f409d99-4846-11ec-9b7a-d4c9ef658fb2.xml\n",
      "Image:E:\\YouTube\\Tensorflow Object Detection\\TFODCourse\\Tensorflow\\workspace\\images\\collectedimages\\thumbsdown\\thumbsdown.9078372f-4846-11ec-82a7-d4c9ef658fb2.jpg -> Annotation:E:/YouTube/Tensorflow Object Detection/TFODCourse/Tensorflow/workspace/images/collectedimages/thumbsdown/thumbsdown.9078372f-4846-11ec-82a7-d4c9ef658fb2.xml\n",
      "Image:E:\\YouTube\\Tensorflow Object Detection\\TFODCourse\\Tensorflow\\workspace\\images\\collectedimages\\thumbsup\\thumbsup.81dc5354-4846-11ec-8d8c-d4c9ef658fb2.jpg -> Annotation:E:/YouTube/Tensorflow Object Detection/TFODCourse/Tensorflow/workspace/images/collectedimages/thumbsup/thumbsup.81dc5354-4846-11ec-8d8c-d4c9ef658fb2.xml\n",
      "Image:E:\\YouTube\\Tensorflow Object Detection\\TFODCourse\\Tensorflow\\workspace\\images\\collectedimages\\thumbsup\\thumbsup.85b70524-4846-11ec-ba02-d4c9ef658fb2.jpg -> Annotation:E:/YouTube/Tensorflow Object Detection/TFODCourse/Tensorflow/workspace/images/collectedimages/thumbsup/thumbsup.85b70524-4846-11ec-ba02-d4c9ef658fb2.xml\n",
      "Image:E:\\YouTube\\Tensorflow Object Detection\\TFODCourse\\Tensorflow\\workspace\\images\\collectedimages\\thumbsup\\thumbsup.86eb947a-4846-11ec-ad5a-d4c9ef658fb2.jpg -> Annotation:E:/YouTube/Tensorflow Object Detection/TFODCourse/Tensorflow/workspace/images/collectedimages/thumbsup/thumbsup.86eb947a-4846-11ec-ad5a-d4c9ef658fb2.xml\n",
      "Image:E:\\YouTube\\Tensorflow Object Detection\\TFODCourse\\Tensorflow\\workspace\\images\\collectedimages\\thumbsup\\thumbsup.847adfe3-4846-11ec-9227-d4c9ef658fb2.jpg -> Annotation:E:/YouTube/Tensorflow Object Detection/TFODCourse/Tensorflow/workspace/images/collectedimages/thumbsup/thumbsup.847adfe3-4846-11ec-9227-d4c9ef658fb2.xml\n",
      "Image:E:\\YouTube\\Tensorflow Object Detection\\TFODCourse\\Tensorflow\\workspace\\images\\collectedimages\\thumbsup\\thumbsup.834320df-4846-11ec-841f-d4c9ef658fb2.jpg -> Annotation:E:/YouTube/Tensorflow Object Detection/TFODCourse/Tensorflow/workspace/images/collectedimages/thumbsup/thumbsup.834320df-4846-11ec-841f-d4c9ef658fb2.xml\n"
     ]
    },
    {
     "name": "stderr",
     "output_type": "stream",
     "text": [
      "labelImg.py:965: DeprecationWarning: an integer is required (got type float).  Implicit conversion to integers using __int__ is deprecated, and may be removed in a future version of Python.\n",
      "  bar.setValue(bar.value() + bar.singleStep() * units)\n"
     ]
    }
   ],
   "source": [
    "!cd {LABELIMG_PATH} && python labelImg.py"
   ]
  },
  {
   "cell_type": "markdown",
   "metadata": {},
   "source": [
    "# 6. Move them into a Training and Testing Partition"
   ]
  },
  {
   "cell_type": "markdown",
   "metadata": {},
   "source": [
    "# OPTIONAL - 7. Compress them for Colab Training"
   ]
  },
  {
   "cell_type": "code",
   "execution_count": 16,
   "metadata": {},
   "outputs": [],
   "source": [
    "TRAIN_PATH = os.path.join('Tensorflow', 'workspace', 'images', 'train')\n",
    "TEST_PATH = os.path.join('Tensorflow', 'workspace', 'images', 'test')\n",
    "ARCHIVE_PATH = os.path.join('Tensorflow', 'workspace', 'images', 'archive.tar.gz')"
   ]
  },
  {
   "cell_type": "code",
   "execution_count": 17,
   "metadata": {},
   "outputs": [],
   "source": [
    "!tar -czf {ARCHIVE_PATH} {TRAIN_PATH} {TEST_PATH}"
   ]
  },
  {
   "cell_type": "code",
   "execution_count": null,
   "metadata": {},
   "outputs": [],
   "source": []
  }
 ],
 "metadata": {
  "kernelspec": {
   "display_name": "tfodj",
   "language": "python",
   "name": "tfodj"
  },
  "language_info": {
   "codemirror_mode": {
    "name": "ipython",
    "version": 3
   },
   "file_extension": ".py",
   "mimetype": "text/x-python",
   "name": "python",
   "nbconvert_exporter": "python",
   "pygments_lexer": "ipython3",
   "version": "3.8.5"
  }
 },
 "nbformat": 4,
 "nbformat_minor": 2
}
